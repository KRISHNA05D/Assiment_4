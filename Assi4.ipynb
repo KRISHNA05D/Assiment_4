{
 "cells": [
  {
   "cell_type": "raw",
   "id": "332041c5-6f97-45b9-88e8-f722aa6a5cda",
   "metadata": {},
   "source": [
    "QUESTION:-1\n",
    "Explain Class and Object with respect to Object-Oriented Programming. Give a suitable example."
   ]
  },
  {
   "cell_type": "raw",
   "id": "b7db3d7e-bc61-44e3-b577-210a3a617633",
   "metadata": {},
   "source": [
    "ANSWER:-\n",
    "CLASS:-A class is a blueprint or template for creating objects. It defines a set of attributes (data) and methods (functions) that the created objects will have. A class encapsulates data for the object and methods to manipulate that data.\n",
    "\n",
    "OBJECT:-\n",
    "An object is an instance of a class. It is created based on the structure and behavior defined by the class. Each object has its own unique set of attributes, though it shares the same methods as other objects of the same class."
   ]
  },
  {
   "cell_type": "code",
   "execution_count": 6,
   "id": "77816f40-86a0-4860-81c8-c247828e5195",
   "metadata": {},
   "outputs": [
    {
     "name": "stdout",
     "output_type": "stream",
     "text": [
      "The engine of the SUV is now running.\n",
      "2014 Tata_Moter SUV\n"
     ]
    }
   ],
   "source": [
    "class Car:\n",
    "    def __init__(self, make, model, year):\n",
    "        self.make = make\n",
    "        self.model = model\n",
    "        self.year = year\n",
    "\n",
    "    def display_info(self):\n",
    "        print(f\"{self.year} {self.make} {self.model}\")\n",
    "\n",
    "    def start_engine(self):\n",
    "        print(f\"The engine of the {self.model} is now running.\")\n",
    "Tata=Car('Tata_Moter','SUV',2014)\n",
    "Tata.start_engine()\n",
    "Tata.display_info()"
   ]
  },
  {
   "cell_type": "raw",
   "id": "316b593d-be89-4b13-a720-fded12d4365a",
   "metadata": {},
   "source": [
    "QUESTION:-2\n",
    "Name the four pillars of OOPs."
   ]
  },
  {
   "cell_type": "raw",
   "id": "23882c6e-ffa1-4671-b2be-d604db98014f",
   "metadata": {},
   "source": [
    "ANSWER:-\n",
    "\n",
    "Encapsulation: This is the concept of wrapping data (variables) and methods (functions) together as a single unit, typically a class. It restricts direct access to some of an object's components, which can prevent the accidental modification of data. Encapsulation is achieved by using access modifiers like private, protected, and public.\n",
    "\n",
    "Abstraction: This involves hiding the complex implementation details and showing only the necessary features of an object. Abstraction allows a programmer to focus on interactions at a higher level rather than the nitty-gritty details of the implementation. It is often implemented using abstract classes and interfaces.\n",
    "\n",
    "Inheritance: This is a mechanism where a new class inherits the properties and behaviors (methods) of an existing class. It promotes code reuse and establishes a hierarchical relationship between classes. The existing class is known as the base class or parent class, and the new class is called the derived class or child class.\n",
    "\n",
    "Polymorphism: This allows methods to do different things based on the object it is acting upon, even if the method name is the same. Polymorphism can be achieved through method overloading (compile-time polymorphism) and method overriding (runtime polymorphism). It enables one interface to be used for a general class of actions, making it easier to manage and extend code."
   ]
  },
  {
   "cell_type": "raw",
   "id": "fe09acf7-d3a2-44ea-8011-7828ec6b6f83",
   "metadata": {},
   "source": [
    "QUESTION:-3\n",
    "Explain why the __init__() function is used. Give a suitable example."
   ]
  },
  {
   "cell_type": "raw",
   "id": "95a43fbf-2775-4d5d-bbc8-300ce8fc27f1",
   "metadata": {},
   "source": [
    "ANSWER:-\n",
    "\n",
    "The __init__() function in Python is a special method known as the constructor. It is automatically called when a new instance of a class is created. The primary purpose of __init__() is to initialize the instance variables of the newly created object. It allows you to set the initial state of the object by assigning values to its properties and performing any other necessary setup."
   ]
  },
  {
   "cell_type": "code",
   "execution_count": 8,
   "id": "91fab639-e8f8-4daa-9444-701179e15f6e",
   "metadata": {},
   "outputs": [
    {
     "name": "stdout",
     "output_type": "stream",
     "text": [
      "Buddy\n",
      "Poodle\n",
      "Buddy says Woof!\n"
     ]
    }
   ],
   "source": [
    "class Dog:\n",
    "    def __init__(self, name, breed, age):\n",
    "        self.name = name\n",
    "        self.breed = breed\n",
    "        self.age = age\n",
    "\n",
    "    def bark(self):\n",
    "        return f\"{self.name} says Woof!\"\n",
    "dog1 = Dog(\"Buddy\", \"Golden Retriever\", 3)\n",
    "dog2 = Dog(\"Lucy\", \"Poodle\", 5)\n",
    "print(dog1.name)\n",
    "print(dog2.breed)\n",
    "print(dog1.bark())"
   ]
  },
  {
   "cell_type": "raw",
   "id": "acfda648-f602-49b2-9a6e-90217b45ceb9",
   "metadata": {},
   "source": [
    "QUESTION:-4\n",
    "Why self is used in OOPs?"
   ]
  },
  {
   "cell_type": "raw",
   "id": "5d874d41-cb43-4c07-bafe-22aa73553ca9",
   "metadata": {},
   "source": [
    "ANSWER:-\n",
    "\n",
    "In Object-Oriented Programming (OOP) in Python, self is a reference to the current instance of the class. It is used to access the variables and methods associated with that particular instance. Here are the key reasons why self is used in OOP:\n",
    "1.Referencing Instance Variables\n",
    "2.Distinguishing Between Class and Instance Contexts\n",
    "3.Accessing Other Methods\n",
    "4.Initializing Instances"
   ]
  },
  {
   "cell_type": "raw",
   "id": "f1bd4331-eea9-4676-98a1-0134fad0f469",
   "metadata": {},
   "source": [
    "QUESTION:-5\n",
    "What is inheritance? Give an example for each type of inheritance."
   ]
  },
  {
   "cell_type": "raw",
   "id": "7fd5c5ac-4ebb-4815-a7bc-9bdbd73fbd31",
   "metadata": {},
   "source": [
    "ANSWER:-\n",
    "\n",
    "Inheritance is a fundamental concept in Object-Oriented Programming (OOP) that allows a class (called the child or subclass) to inherit attributes and methods from another class (called the parent or superclass). This promotes code reuse, modularity, and a hierarchical classification.\n",
    "Types of Inheritance:-"
   ]
  },
  {
   "cell_type": "code",
   "execution_count": 9,
   "id": "74d84a51-cd25-464d-9274-0eb8d6340388",
   "metadata": {},
   "outputs": [
    {
     "name": "stdout",
     "output_type": "stream",
     "text": [
      "Animal sounds\n",
      "Woof!\n"
     ]
    }
   ],
   "source": [
    "#Single Inheritance\n",
    "class Animal:\n",
    "    def speak(self):\n",
    "        return \"Animal sounds\"\n",
    "\n",
    "class Dog(Animal):\n",
    "    def bark(self):\n",
    "        return \"Woof!\"\n",
    "\n",
    "# Creating an instance of Dog\n",
    "dog = Dog()\n",
    "print(dog.speak())  # Output: Animal sounds\n",
    "print(dog.bark())   # Output: Woof!"
   ]
  },
  {
   "cell_type": "code",
   "execution_count": 10,
   "id": "493a42f4-8532-4076-91e6-e120f0cacb22",
   "metadata": {},
   "outputs": [
    {
     "name": "stdout",
     "output_type": "stream",
     "text": [
      "Walking\n",
      "Swimming\n"
     ]
    }
   ],
   "source": [
    "#Multiple Inheritance\n",
    "class Walk:\n",
    "    def walk(self):\n",
    "        return \"Walking\"\n",
    "\n",
    "class Swim:\n",
    "    def swim(self):\n",
    "        return \"Swimming\"\n",
    "\n",
    "class Duck(Walk, Swim):\n",
    "    pass\n",
    "\n",
    "# Creating an instance of Duck\n",
    "duck = Duck()\n",
    "print(duck.walk())  # Output: Walking\n",
    "print(duck.swim())  # Output: Swimming"
   ]
  },
  {
   "cell_type": "code",
   "execution_count": 11,
   "id": "a11945a5-fe96-43ad-88da-918ccc114bb0",
   "metadata": {},
   "outputs": [
    {
     "name": "stdout",
     "output_type": "stream",
     "text": [
      "Moving\n",
      "Driving a car\n",
      "Charging electric car\n"
     ]
    }
   ],
   "source": [
    "#Multilevel Inheritance\n",
    "class Vehicle:\n",
    "    def move(self):\n",
    "        return \"Moving\"\n",
    "\n",
    "class Car(Vehicle):\n",
    "    def drive(self):\n",
    "        return \"Driving a car\"\n",
    "\n",
    "class ElectricCar(Car):\n",
    "    def charge(self):\n",
    "        return \"Charging electric car\"\n",
    "\n",
    "# Creating an instance of ElectricCar\n",
    "tesla = ElectricCar()\n",
    "print(tesla.move())  # Output: Moving\n",
    "print(tesla.drive()) # Output: Driving a car\n",
    "print(tesla.charge())# Output: Charging electric car"
   ]
  },
  {
   "cell_type": "code",
   "execution_count": 12,
   "id": "ea20738e-c453-4a95-89e4-947c72047166",
   "metadata": {},
   "outputs": [
    {
     "name": "stdout",
     "output_type": "stream",
     "text": [
      "Flying\n",
      "Chirp chirp\n",
      "Flying\n",
      "Hunting\n"
     ]
    }
   ],
   "source": [
    "#Hierarchical Inheritance\n",
    "class Bird:\n",
    "    def fly(self):\n",
    "        return \"Flying\"\n",
    "\n",
    "class Sparrow(Bird):\n",
    "    def chirp(self):\n",
    "        return \"Chirp chirp\"\n",
    "\n",
    "class Eagle(Bird):\n",
    "    def hunt(self):\n",
    "        return \"Hunting\"\n",
    "\n",
    "# Creating instances of Sparrow and Eagle\n",
    "sparrow = Sparrow()\n",
    "eagle = Eagle()\n",
    "print(sparrow.fly())  # Output: Flying\n",
    "print(sparrow.chirp())# Output: Chirp chirp\n",
    "print(eagle.fly())    # Output: Flying\n",
    "print(eagle.hunt())   # Output: Hunting"
   ]
  },
  {
   "cell_type": "code",
   "execution_count": 13,
   "id": "8d8d6356-8d1d-4afe-a4f9-3d9f261cfa32",
   "metadata": {},
   "outputs": [
    {
     "name": "stdout",
     "output_type": "stream",
     "text": [
      "Engine started\n",
      "Moving\n",
      "Driving a car\n",
      "Charging electric car\n"
     ]
    }
   ],
   "source": [
    "#Hybrid Inheritance\n",
    "class Engine:\n",
    "    def start(self):\n",
    "        return \"Engine started\"\n",
    "\n",
    "class Vehicle:\n",
    "    def move(self):\n",
    "        return \"Moving\"\n",
    "\n",
    "class Car(Vehicle, Engine):\n",
    "    def drive(self):\n",
    "        return \"Driving a car\"\n",
    "\n",
    "class ElectricCar(Car):\n",
    "    def charge(self):\n",
    "        return \"Charging electric car\"\n",
    "\n",
    "# Creating an instance of ElectricCar\n",
    "tesla = ElectricCar()\n",
    "print(tesla.start())  # Output: Engine started\n",
    "print(tesla.move())   # Output: Moving\n",
    "print(tesla.drive())  # Output: Driving a car\n",
    "print(tesla.charge()) # Output: Charging electric car"
   ]
  },
  {
   "cell_type": "code",
   "execution_count": null,
   "id": "4f259560-6133-4e69-862a-1ec9e5039812",
   "metadata": {},
   "outputs": [],
   "source": []
  }
 ],
 "metadata": {
  "kernelspec": {
   "display_name": "Python 3 (ipykernel)",
   "language": "python",
   "name": "python3"
  },
  "language_info": {
   "codemirror_mode": {
    "name": "ipython",
    "version": 3
   },
   "file_extension": ".py",
   "mimetype": "text/x-python",
   "name": "python",
   "nbconvert_exporter": "python",
   "pygments_lexer": "ipython3",
   "version": "3.10.8"
  }
 },
 "nbformat": 4,
 "nbformat_minor": 5
}
